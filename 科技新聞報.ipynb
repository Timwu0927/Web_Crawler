{
 "cells": [
  {
   "cell_type": "code",
   "execution_count": 90,
   "metadata": {},
   "outputs": [],
   "source": [
    "from selenium import webdriver\n",
    "from bs4 import BeautifulSoup\n",
    "import time"
   ]
  },
  {
   "cell_type": "code",
   "execution_count": 91,
   "metadata": {},
   "outputs": [],
   "source": [
    "browser = webdriver.Chrome()"
   ]
  },
  {
   "cell_type": "code",
   "execution_count": 92,
   "metadata": {},
   "outputs": [],
   "source": [
    "browser.get(\"https://technews.tw/category/internet/%e8%b3%87%e8%a8%8a%e5%ae%89%e5%85%a8/\")"
   ]
  },
  {
   "cell_type": "code",
   "execution_count": 93,
   "metadata": {},
   "outputs": [],
   "source": [
    "time.sleep(3)"
   ]
  },
  {
   "cell_type": "code",
   "execution_count": 94,
   "metadata": {},
   "outputs": [],
   "source": [
    "browser.maximize_window()"
   ]
  },
  {
   "cell_type": "code",
   "execution_count": 95,
   "metadata": {},
   "outputs": [],
   "source": [
    "TotalData=[]"
   ]
  },
  {
   "cell_type": "code",
   "execution_count": 96,
   "metadata": {},
   "outputs": [],
   "source": [
    "c_url = browser.current_url\n",
    "browser.get(c_url)\n",
    "html = browser.page_source\n",
    "soup=BeautifulSoup(html,'html.parser')\n",
    "alldiv = soup.find_all('div',class_='content')"
   ]
  },
  {
   "cell_type": "code",
   "execution_count": 97,
   "metadata": {},
   "outputs": [
    {
     "name": "stdout",
     "output_type": "stream",
     "text": [
      "----一篇新聞開始----\n",
      "#標題:員工爆料隔離區計畫，彭博社：Google 放棄針對中國市場的雲端服務 \n",
      "#內文：彭博社最新報導指出，Google 放棄為中國市場以及其他存在政治爭議的國家開發雲端運算產品的計畫。在 2018 年外媒報導披露 Google 開發可被審查、代號為「蜻蜓」（Dragonfly）的中文搜尋產品，因而引發爭議，到了同年 12 月則關閉產品開發，這次則是 Google 第二度取消針對中國市場的產品計畫。 \n",
      "#發文日期：2020 年 07 月 09 日 11:40\n",
      "#連結：https://technews.tw/2020/07/09/google-reportedly-abandoned-a-cloud-computing-product-for-the-chinese-market/\n",
      "TotalData儲存成功\n",
      "----一篇新聞結束---- \n",
      "----一篇新聞開始----\n",
      "#標題:研究顯示家用安全攝影機都很「蠢」！會無意間告訴竊賊你不在家 \n",
      "#內文：根據 6 日發表的研究指出，一些主流家用安全攝影機可讓竊賊獲知你何時離開房子。研究人員發現，竊賊無需監控錄影內容，只需查看攝影機上傳的資料，就能判斷是否有人在家，甚至還能知道他們在家裡做什麼。  繼續閱讀.. \n",
      "#發文日期：2020 年 07 月 08 日 8:45\n",
      "#連結：https://technews.tw/2020/07/08/security-cameras-can-tell-burglars-when-youre-not-home/\n",
      "TotalData儲存成功\n",
      "----一篇新聞結束---- \n",
      "----一篇新聞開始----\n",
      "#標題:TikTok 被指將撤出香港，CEO：用戶數據未儲存在中國 \n",
      "#內文：《港區國安法》自 7 月 1 日實施後，知名社交媒體如 Facebook、Twitter 及 Google 也先後宣布將暫停處理香港政府要求用戶資料的請求，而《路透社》在最新的報導中引述了抖音發言人的發言，指在鑑於近期事件的情況下，抖音 TikTok 將在未來數日內退出香港市場，停止營運。 繼續閱讀.. \n",
      "#發文日期：2020 年 07 月 07 日 15:45\n",
      "#連結：https://technews.tw/2020/07/07/tiktok-says-it-will-exit-hong-kong-market-within-days/\n",
      "TotalData儲存成功\n",
      "----一篇新聞結束---- \n",
      "----一篇新聞開始----\n",
      "#標題:跟進印度？蓬佩奧：美國考慮封殺抖音等中國行動 App \n",
      "#內文：繼印度對 59 款中國行動 App 下達禁令之後，美國國務卿蓬佩奧（Mike Pompeo）透露，美國或許也會封殺短影音社交應用程式「抖音」（TikTok）等中國 App。 繼續閱讀.. \n",
      "#發文日期：2020 年 07 月 07 日 15:00\n",
      "#連結：https://technews.tw/2020/07/07/us-considers-blocking-chinese-mobile-apps-such-as-tiktok/\n",
      "TotalData儲存成功\n",
      "----一篇新聞結束---- \n",
      "----一篇新聞開始----\n",
      "#標題:抗議言論恐遭香港國安法定罪，Google、Facebook、Twitter 暫停受理用戶數據請求 \n",
      "#內文：由於擔憂日前生效的香港《國安法》可能會將人民的抗議言論定為罪行，甚至擴及網路平台的所有紀錄，包括 Google、Facebook、Twitter 這些大型公司已表明暫停受理香港政府提出的用戶數據請求，以維護言論自由與人權。 \n",
      "#發文日期：2020 年 07 月 07 日 12:35\n",
      "#連結：https://technews.tw/2020/07/07/google-facebook-twitter-pause-hong-kong-data-requests/\n",
      "TotalData儲存成功\n",
      "----一篇新聞結束---- \n",
      "----一篇新聞開始----\n",
      "#標題:為防競爭不公，Google 收購 Fitbit 恐受歐盟監管機構深入審查 \n",
      "#內文：致力於增進健康並鼓勵運動的穿戴式裝置大廠 Fitbit，去年已由 Google 母公司 Alphabet 宣布以 21 億美元收購，計劃在 2020 年完成收購。這宗交易目前仍在接受各國主管機構的審查，由於擔憂這家網路巨擘對於從 Fitbit 產品蒐集個人數據的使用方式，併購計畫恐將延遲。 \n",
      "#發文日期：2020 年 07 月 06 日 12:30\n",
      "#連結：https://technews.tw/2020/07/06/google-2-1-billion-fitbit-acquisition-is-getting-closer-scrutiny-from-eu-regulators/\n",
      "TotalData儲存成功\n",
      "----一篇新聞結束---- \n",
      "----一篇新聞開始----\n",
      "#標題:5G 開台，法人：資安是台灣下一個亮點產業 \n",
      "#內文：5G 熱鬧開台，將加速 AI、物聯網新科技應用，相對伴隨的「網路資安」問題也將跟著進化，資策會預期 5 年內資安需求將 3 倍成長，法人認為，資安將是台灣下一個亮點產業。 \n",
      "#發文日期：2020 年 07 月 05 日 13:38\n",
      "#連結：https://technews.tw/2020/07/05/5g-launch-taiwan-industry-highlights-information-security/\n",
      "TotalData儲存成功\n",
      "----一篇新聞結束---- \n",
      "----一篇新聞開始----\n",
      "#標題:Facebook 出現嚴重漏洞，約 5 千名未獲授權開發者取得用戶資料 \n",
      "#內文：近期負面新聞不斷的 Facebook，2 日再爆醜聞，承認因系統漏洞，未獲授權下給予約 5 千名開發者可存取用戶個資。Facebook 自 2018 年起就設限，當用戶連續 90 日沒有使用某程式，自動禁止開發者取得該用戶資料，當 90 日期限過去，開發者需要重新向用戶要求取得權限。 繼續閱讀.. \n",
      "#發文日期：2020 年 07 月 05 日 0:00\n",
      "#連結：https://technews.tw/2020/07/05/facebook-has-a-serious-user-privacy-vulnerability/\n",
      "TotalData儲存成功\n",
      "----一篇新聞結束---- \n",
      "----一篇新聞開始----\n",
      "#標題:涉盜取 Facebook 帳號資料，25 款軟體 Google Play Store 強制下架 \n",
      "#內文：雖然 Google 非常努力打擊惡意軟體，但也無法保證在 Play Store 上架的軟體 100% 安全。稍早法國網路安全公司 Evina 就發現，25 款內含惡意功能的 Android 軟體盜用 Facebook 用戶帳號資料，卻在 Google Play Store 總下載次數超過 234 萬次。 繼續閱讀.. \n",
      "#發文日期：2020 年 07 月 04 日 0:00\n",
      "#連結：https://technews.tw/2020/07/04/25-apps-involving-theft-of-facebook-account-information/\n",
      "TotalData儲存成功\n",
      "----一篇新聞結束---- \n",
      "----一篇新聞開始----\n",
      "#標題:美國正式宣布：華為中興對國家安全構成威脅 \n",
      "#內文：美國聯邦傳播委員會 6 月 30 日正式裁定，將中國華為技術與中興通訊列美國國家安全威脅，禁止使用政府資金向這兩家中企採購。 繼續閱讀.. \n",
      "#發文日期：2020 年 07 月 01 日 8:50\n",
      "#連結：https://technews.tw/2020/07/01/fcc-prohibits-subsidized-huawei-and-zte-gear-from-americas-networks/\n",
      "TotalData儲存成功\n",
      "----一篇新聞結束---- \n",
      "----一篇新聞開始----\n",
      "#標題:印度政府發文，封禁 TikTok 等數十款中國應用 \n",
      "#內文：6 月 29 日，印度政府在官網公告，稱「政府封禁 59 款行動應用，這些應用對印度的國家主權完整、國防安全及公用秩序不利」。公告全文隻字未提中國，但根據被禁應用清單，基本全為中國公司開發的應用。 繼續閱讀.. \n",
      "#發文日期：2020 年 06 月 30 日 13:14\n",
      "#連結：https://technews.tw/2020/06/30/bans-59-mobile-apps-which-are-prejudicial-to-sovereignty-and-integrity-of-india-defence-of-india-security-of-state-and-public-order/\n",
      "TotalData儲存成功\n",
      "----一篇新聞結束---- \n",
      "----一篇新聞開始----\n",
      "#標題:不只抖音會偷看剪貼簿，iOS 14「偷窺」App 全揭露 \n",
      "#內文：之前報導過 iOS 14 Beta 新增的「Paste Notification」（剪貼通知）功能，讓很多會偷窺用戶剪貼簿資料的 App 曝光。外國有安全研究員表示，發現有 53 個 App 會偷窺用戶剪貼簿的資料。 繼續閱讀.. \n",
      "#發文日期：2020 年 06 月 30 日 11:35\n",
      "#連結：https://technews.tw/2020/06/30/tiktok-and-53-other-ios-apps-still-snoop-your-sensitive-clipboard-data/\n",
      "TotalData儲存成功\n",
      "----一篇新聞結束---- \n",
      "----一篇新聞開始----\n",
      "#標題:美商務部撤銷香港特殊地位，取消出口證豁免 \n",
      "#內文：趕在北京即將表決港區國安法前，美國商務部長羅斯宣布，撤銷香港特殊地位，暫停對港執行優惠待遇規定，包括提供出口許可證豁免。商務部也正進行取消差別待遇評估。 繼續閱讀.. \n",
      "#發文日期：2020 年 06 月 30 日 8:50\n",
      "#連結：https://finance.technews.tw/2020/06/30/statement-from-u-s-secretary-of-commerce-wilbur-ross-on-revocation-of-hong-kong-special-status/\n",
      "TotalData儲存成功\n",
      "----一篇新聞結束---- \n",
      "----一篇新聞開始----\n",
      "#標題:傳美憂中國安檢設備商掌握情資，施壓歐拒用 \n",
      "#內文：美國施壓歐洲盟友禁用華為，成效不一。儘管如此，據傳美方又鎖定新的中企下手，這回是中國安檢設備龍頭「同方威視」（Nuctech），華府認為同方威視設備在歐洲日益普及，將威脅西方安全。 \n",
      "#發文日期：2020 年 06 月 29 日 15:30\n",
      "#連結：https://technews.tw/2020/06/29/nuctech-dispute/\n",
      "TotalData儲存成功\n",
      "----一篇新聞結束---- \n",
      "----一篇新聞開始----\n",
      "#標題:蘋果 iOS 14 揭抖音偷窺 iPhone 剪貼簿，用戶密碼全都露 \n",
      "#內文：蘋果公司近日在全球開發者大會（WWDC）上發表 iOS 14，資安專家指出，這款最新作業系統的安全通知，揭露抖音（TikTok）等應用程式 App 會偷偷讀取 iPhone 的剪貼簿。 \n",
      "#發文日期：2020 年 06 月 28 日 23:12\n",
      "#連結：https://technews.tw/2020/06/28/tiktok-stealing-clipboard-on-ios/\n",
      "TotalData儲存成功\n",
      "----一篇新聞結束---- \n",
      " ---------爬蟲結束------- \n"
     ]
    }
   ],
   "source": [
    "for div in alldiv:\n",
    "        print('----一篇新聞開始----')\n",
    "        if 'NavigableString' in type(div).__name__:\n",
    "            print('此DIV無內容')\n",
    "        else:\n",
    "            try:\n",
    "                title=div.find('h1',class_='entry-title').find('a').get('title')   \n",
    "                try:\n",
    "                    content=div.find('div',class_='moreinf').find('p').text.strip()\n",
    "                except:\n",
    "                    print('內文爬取失敗')\n",
    "                try:     \n",
    "                    link=div.find('a').get('href')\n",
    "                except:\n",
    "                    print(\"連結爬取失敗\")\n",
    "                try:\n",
    "                    date=div.find('span',class_='body').find_next('span',class_='body').text.strip()\n",
    "                except:\n",
    "                     print(\"日期爬取失敗\")\n",
    "                print('#標題:{} \\n#內文：{} \\n#發文日期：{}\\n#連結：{}'.format(title, content,date, link))\n",
    "\n",
    "                TotalData.append({'title':title,'content':content,'date':date,'link':link})\n",
    "                print(\"TotalData儲存成功\")\n",
    "\n",
    "            except:\n",
    "                print(\"標題擷取失敗\")\n",
    "           #########################################################################################     \n",
    "\n",
    "\n",
    "           # print(div)\n",
    "\n",
    "        print('----一篇新聞結束---- ')\n",
    "        #browser.find_element_by_link_text('下一頁 ›').click()\n",
    "        #num_page = num_page-1\n",
    "   \n",
    "print(' ---------爬蟲結束------- ')  \n",
    "browser.close()"
   ]
  },
  {
   "cell_type": "code",
   "execution_count": 98,
   "metadata": {},
   "outputs": [
    {
     "name": "stdout",
     "output_type": "stream",
     "text": [
      "[{'title': '員工爆料隔離區計畫，彭博社：Google 放棄針對中國市場的雲端服務', 'content': '彭博社最新報導指出，Google 放棄為中國市場以及其他存在政治爭議的國家開發雲端運算產品的計畫。在 2018 年外媒報導披露 Google 開發可被審查、代號為「蜻蜓」（Dragonfly）的中文搜尋產品，因而引發爭議，到了同年 12 月則關閉產品開發，這次則是 Google 第二度取消針對中國市場的產品計畫。', 'date': '2020 年 07 月 09 日 11:40', 'link': 'https://technews.tw/2020/07/09/google-reportedly-abandoned-a-cloud-computing-product-for-the-chinese-market/'}, {'title': '研究顯示家用安全攝影機都很「蠢」！會無意間告訴竊賊你不在家', 'content': '根據 6 日發表的研究指出，一些主流家用安全攝影機可讓竊賊獲知你何時離開房子。研究人員發現，竊賊無需監控錄影內容，只需查看攝影機上傳的資料，就能判斷是否有人在家，甚至還能知道他們在家裡做什麼。\\xa0 繼續閱讀..', 'date': '2020 年 07 月 08 日 8:45', 'link': 'https://technews.tw/2020/07/08/security-cameras-can-tell-burglars-when-youre-not-home/'}, {'title': 'TikTok 被指將撤出香港，CEO：用戶數據未儲存在中國', 'content': '《港區國安法》自 7 月 1 日實施後，知名社交媒體如 Facebook、Twitter 及 Google 也先後宣布將暫停處理香港政府要求用戶資料的請求，而《路透社》在最新的報導中引述了抖音發言人的發言，指在鑑於近期事件的情況下，抖音 TikTok 將在未來數日內退出香港市場，停止營運。 繼續閱讀..', 'date': '2020 年 07 月 07 日 15:45', 'link': 'https://technews.tw/2020/07/07/tiktok-says-it-will-exit-hong-kong-market-within-days/'}, {'title': '跟進印度？蓬佩奧：美國考慮封殺抖音等中國行動 App', 'content': '繼印度對 59 款中國行動 App 下達禁令之後，美國國務卿蓬佩奧（Mike Pompeo）透露，美國或許也會封殺短影音社交應用程式「抖音」（TikTok）等中國 App。 繼續閱讀..', 'date': '2020 年 07 月 07 日 15:00', 'link': 'https://technews.tw/2020/07/07/us-considers-blocking-chinese-mobile-apps-such-as-tiktok/'}, {'title': '抗議言論恐遭香港國安法定罪，Google、Facebook、Twitter 暫停受理用戶數據請求', 'content': '由於擔憂日前生效的香港《國安法》可能會將人民的抗議言論定為罪行，甚至擴及網路平台的所有紀錄，包括 Google、Facebook、Twitter 這些大型公司已表明暫停受理香港政府提出的用戶數據請求，以維護言論自由與人權。', 'date': '2020 年 07 月 07 日 12:35', 'link': 'https://technews.tw/2020/07/07/google-facebook-twitter-pause-hong-kong-data-requests/'}, {'title': '為防競爭不公，Google 收購 Fitbit 恐受歐盟監管機構深入審查', 'content': '致力於增進健康並鼓勵運動的穿戴式裝置大廠 Fitbit，去年已由 Google 母公司 Alphabet 宣布以 21 億美元收購，計劃在 2020 年完成收購。這宗交易目前仍在接受各國主管機構的審查，由於擔憂這家網路巨擘對於從 Fitbit 產品蒐集個人數據的使用方式，併購計畫恐將延遲。', 'date': '2020 年 07 月 06 日 12:30', 'link': 'https://technews.tw/2020/07/06/google-2-1-billion-fitbit-acquisition-is-getting-closer-scrutiny-from-eu-regulators/'}, {'title': '5G 開台，法人：資安是台灣下一個亮點產業', 'content': '5G 熱鬧開台，將加速 AI、物聯網新科技應用，相對伴隨的「網路資安」問題也將跟著進化，資策會預期 5 年內資安需求將 3 倍成長，法人認為，資安將是台灣下一個亮點產業。', 'date': '2020 年 07 月 05 日 13:38', 'link': 'https://technews.tw/2020/07/05/5g-launch-taiwan-industry-highlights-information-security/'}, {'title': 'Facebook 出現嚴重漏洞，約 5 千名未獲授權開發者取得用戶資料', 'content': '近期負面新聞不斷的 Facebook，2 日再爆醜聞，承認因系統漏洞，未獲授權下給予約 5 千名開發者可存取用戶個資。Facebook 自 2018 年起就設限，當用戶連續 90 日沒有使用某程式，自動禁止開發者取得該用戶資料，當 90 日期限過去，開發者需要重新向用戶要求取得權限。 繼續閱讀..', 'date': '2020 年 07 月 05 日 0:00', 'link': 'https://technews.tw/2020/07/05/facebook-has-a-serious-user-privacy-vulnerability/'}, {'title': '涉盜取 Facebook 帳號資料，25 款軟體 Google Play Store 強制下架', 'content': '雖然 Google 非常努力打擊惡意軟體，但也無法保證在 Play Store 上架的軟體 100% 安全。稍早法國網路安全公司 Evina 就發現，25 款內含惡意功能的 Android 軟體盜用 Facebook 用戶帳號資料，卻在 Google Play Store 總下載次數超過 234 萬次。 繼續閱讀..', 'date': '2020 年 07 月 04 日 0:00', 'link': 'https://technews.tw/2020/07/04/25-apps-involving-theft-of-facebook-account-information/'}, {'title': '美國正式宣布：華為中興對國家安全構成威脅', 'content': '美國聯邦傳播委員會 6 月 30 日正式裁定，將中國華為技術與中興通訊列美國國家安全威脅，禁止使用政府資金向這兩家中企採購。 繼續閱讀..', 'date': '2020 年 07 月 01 日 8:50', 'link': 'https://technews.tw/2020/07/01/fcc-prohibits-subsidized-huawei-and-zte-gear-from-americas-networks/'}, {'title': '印度政府發文，封禁 TikTok 等數十款中國應用', 'content': '6 月 29 日，印度政府在官網公告，稱「政府封禁 59 款行動應用，這些應用對印度的國家主權完整、國防安全及公用秩序不利」。公告全文隻字未提中國，但根據被禁應用清單，基本全為中國公司開發的應用。 繼續閱讀..', 'date': '2020 年 06 月 30 日 13:14', 'link': 'https://technews.tw/2020/06/30/bans-59-mobile-apps-which-are-prejudicial-to-sovereignty-and-integrity-of-india-defence-of-india-security-of-state-and-public-order/'}, {'title': '不只抖音會偷看剪貼簿，iOS 14「偷窺」App 全揭露', 'content': '之前報導過 iOS 14 Beta 新增的「Paste Notification」（剪貼通知）功能，讓很多會偷窺用戶剪貼簿資料的 App 曝光。外國有安全研究員表示，發現有 53 個 App 會偷窺用戶剪貼簿的資料。 繼續閱讀..', 'date': '2020 年 06 月 30 日 11:35', 'link': 'https://technews.tw/2020/06/30/tiktok-and-53-other-ios-apps-still-snoop-your-sensitive-clipboard-data/'}, {'title': '美商務部撤銷香港特殊地位，取消出口證豁免', 'content': '趕在北京即將表決港區國安法前，美國商務部長羅斯宣布，撤銷香港特殊地位，暫停對港執行優惠待遇規定，包括提供出口許可證豁免。商務部也正進行取消差別待遇評估。 繼續閱讀..', 'date': '2020 年 06 月 30 日 8:50', 'link': 'https://finance.technews.tw/2020/06/30/statement-from-u-s-secretary-of-commerce-wilbur-ross-on-revocation-of-hong-kong-special-status/'}, {'title': '傳美憂中國安檢設備商掌握情資，施壓歐拒用', 'content': '美國施壓歐洲盟友禁用華為，成效不一。儘管如此，據傳美方又鎖定新的中企下手，這回是中國安檢設備龍頭「同方威視」（Nuctech），華府認為同方威視設備在歐洲日益普及，將威脅西方安全。', 'date': '2020 年 06 月 29 日 15:30', 'link': 'https://technews.tw/2020/06/29/nuctech-dispute/'}, {'title': '蘋果 iOS 14 揭抖音偷窺 iPhone 剪貼簿，用戶密碼全都露', 'content': '蘋果公司近日在全球開發者大會（WWDC）上發表 iOS 14，資安專家指出，這款最新作業系統的安全通知，揭露抖音（TikTok）等應用程式 App 會偷偷讀取 iPhone 的剪貼簿。', 'date': '2020 年 06 月 28 日 23:12', 'link': 'https://technews.tw/2020/06/28/tiktok-stealing-clipboard-on-ios/'}]\n"
     ]
    }
   ],
   "source": [
    "import json\n",
    "\n",
    "print(TotalData)\n",
    "\n",
    "with open('iThomeNews_1.json', 'w', encoding='utf-8') as f:\n",
    "    json.dump(TotalData, f,ensure_ascii=False,indent=2)\n"
   ]
  },
  {
   "cell_type": "code",
   "execution_count": 99,
   "metadata": {},
   "outputs": [
    {
     "name": "stdout",
     "output_type": "stream",
     "text": [
      "彭博社最新報導指出，Google 放棄為中國市場以及其他存在政治爭議的國家開發雲端運算產品的計畫。在 2018 年外媒報導披露 Google 開發可被審查、代號為「蜻蜓」（Dragonfly）的中文搜尋產品，因而引發爭議，到了同年 12 月則關閉產品開發，這次則是 Google 第二度取消針對中國市場的產品計畫。\n",
      "157\n"
     ]
    }
   ],
   "source": [
    "input_file = open ('iThomeNews_1.json',encoding = 'utf8')\n",
    "json_array = json.load(input_file)\n",
    "print(json_array[0]['content'])\n",
    "print(len(json_array[0]['content']))\n",
    "##讀檔"
   ]
  },
  {
   "cell_type": "code",
   "execution_count": null,
   "metadata": {},
   "outputs": [],
   "source": []
  }
 ],
 "metadata": {
  "kernelspec": {
   "display_name": "Python 3",
   "language": "python",
   "name": "python3"
  },
  "language_info": {
   "codemirror_mode": {
    "name": "ipython",
    "version": 3
   },
   "file_extension": ".py",
   "mimetype": "text/x-python",
   "name": "python",
   "nbconvert_exporter": "python",
   "pygments_lexer": "ipython3",
   "version": "3.7.6"
  }
 },
 "nbformat": 4,
 "nbformat_minor": 4
}
